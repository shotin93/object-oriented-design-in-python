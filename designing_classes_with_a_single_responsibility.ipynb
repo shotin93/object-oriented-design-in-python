{
  "nbformat": 4,
  "nbformat_minor": 0,
  "metadata": {
    "colab": {
      "provenance": []
    },
    "kernelspec": {
      "name": "python3",
      "display_name": "Python 3"
    }
  },
  "cells": [
    {
      "cell_type": "markdown",
      "source": [
        "# Deciding What Belongs in a Class\n",
        "This chapter focus on how to decide what belongs in class.\n",
        "\n",
        "Firstly, we need to group methods into class. However, we cannot do this correctly at early stage of project because our applications need to be changed in the future.\n",
        "\n",
        "Therefore, we have to organize code to be easy to change. To achieve this, the code should follow TRUE principle;\n",
        "\n",
        "* Transparent: The consequences of change should be obvious in the code that is changing and in distant code relies upon it\n",
        "* Reasonable: The cost of any change should be proportional to the benefits the change achieves\n",
        "* Usable: Existing code should be usable in new and unexpected contexts\n",
        "* Exemplary: The code itself should encourage those who change it to perpetuate these qualities\n",
        "\n",
        "TRUE principle ensures each class has a single responsibility."
      ],
      "metadata": {
        "id": "DSnAPSzCxrLm"
      }
    },
    {
      "cell_type": "markdown",
      "source": [
        "# Creating Classes That Have a Single Responsibility\n"
      ],
      "metadata": {
        "id": "urx-4-0AxrDM"
      }
    },
    {
      "cell_type": "markdown",
      "source": [
        "Code sample is about bicycle and its gear. Gear has chainring and cog, and we can calculate gear ratio dividing chainring by cog of gear."
      ],
      "metadata": {
        "id": "AyH7uK6RyJd6"
      }
    },
    {
      "cell_type": "code",
      "metadata": {
        "id": "HLAjKy4B8mIV",
        "outputId": "cd17a251-95cb-4fa4-9f9f-fc205e12aac4",
        "colab": {
          "base_uri": "https://localhost:8080/"
        }
      },
      "source": [
        "chainring = 52\n",
        "cog = 11\n",
        "ratio = chainring / float(cog)\n",
        "print(ratio)\n",
        "\n",
        "chainring = 30\n",
        "cog = 27\n",
        "ratio = chainring / float(cog)\n",
        "print(ratio)"
      ],
      "execution_count": null,
      "outputs": [
        {
          "output_type": "stream",
          "name": "stdout",
          "text": [
            "4.7272727272727275\n",
            "1.1111111111111112\n"
          ]
        }
      ]
    },
    {
      "cell_type": "markdown",
      "source": [
        "When you write something into code, nouns are candidates to be classes, in this case bicycle and gear. Bicycle can be class but it doesn’t have data or behaviors in this example. On the other hand, gear has, such as chainrings, cogs and ratios, so we should create Gear class."
      ],
      "metadata": {
        "id": "KhiK48KTyTbx"
      }
    },
    {
      "cell_type": "code",
      "metadata": {
        "id": "50w1BKR89cM1",
        "outputId": "c9e5dc39-b2bf-4996-9d39-0c40abe6eed6",
        "colab": {
          "base_uri": "https://localhost:8080/"
        }
      },
      "source": [
        "class Gear:\n",
        "  def __init__(self, chainring, cog):\n",
        "    self.chainring = chainring\n",
        "    self.cog = cog\n",
        "\n",
        "  def ratio(self):\n",
        "    return self.chainring / float(self.cog)\n",
        "\n",
        "print(Gear(52, 11).ratio())\n",
        "print(Gear(30, 27).ratio())"
      ],
      "execution_count": null,
      "outputs": [
        {
          "output_type": "stream",
          "name": "stdout",
          "text": [
            "4.7272727272727275\n",
            "1.1111111111111112\n"
          ]
        }
      ]
    },
    {
      "cell_type": "markdown",
      "source": [
        "We calculated gear ratio, but cyclists also want to know gear inches. The formula follows:\n",
        "\n",
        "* `gear inches = wheel diameter * gear ratio`\n",
        "* `wheel diameter = rim diameter + twice tire diameter`\n",
        "We can easily add this new behavior:"
      ],
      "metadata": {
        "id": "wICw6rFjyZi7"
      }
    },
    {
      "cell_type": "code",
      "metadata": {
        "id": "X3qyu4Kg_644",
        "outputId": "4bf76af2-c73a-4b35-ab30-c39ba0e895bf",
        "colab": {
          "base_uri": "https://localhost:8080/"
        }
      },
      "source": [
        "class Gear:\n",
        "  def __init__(self, chainring, cog, rim, tire):\n",
        "    self.chainring = chainring\n",
        "    self.cog = cog\n",
        "    self.rim = rim\n",
        "    self.tire = tire\n",
        "\n",
        "  def ratio(self):\n",
        "    return self.chainring / float(self.cog)\n",
        "\n",
        "  def gear_inches(self):\n",
        "    return ratio * (self.rim + (self.tire * 2))\n",
        "\n",
        "print(Gear(52, 11, 26, 1.5).gear_inches())\n",
        "print(Gear(52, 11, 24, 1.25).gear_inches())"
      ],
      "execution_count": null,
      "outputs": [
        {
          "output_type": "stream",
          "name": "stdout",
          "text": [
            "32.22222222222222\n",
            "29.444444444444446\n"
          ]
        }
      ]
    },
    {
      "cell_type": "markdown",
      "source": [
        "But we just want to know ratio as before, the code causes bug."
      ],
      "metadata": {
        "id": "6k4wSkF2yi2T"
      }
    },
    {
      "cell_type": "code",
      "metadata": {
        "id": "PQoyxOktBcnL",
        "outputId": "27dff384-ae0d-41c4-a0a5-077321b686ac",
        "colab": {
          "base_uri": "https://localhost:8080/",
          "height": 168
        }
      },
      "source": [
        "print(Gear(52, 11).ratio()) #TypeError: __init__() missing 2 required positional arguments: 'rim' and 'tire'"
      ],
      "execution_count": null,
      "outputs": [
        {
          "output_type": "error",
          "ename": "TypeError",
          "evalue": "ignored",
          "traceback": [
            "\u001b[0;31m---------------------------------------------------------------------------\u001b[0m",
            "\u001b[0;31mTypeError\u001b[0m                                 Traceback (most recent call last)",
            "\u001b[0;32m<ipython-input-7-1ebd9651d364>\u001b[0m in \u001b[0;36m<module>\u001b[0;34m()\u001b[0m\n\u001b[0;32m----> 1\u001b[0;31m \u001b[0mprint\u001b[0m\u001b[0;34m(\u001b[0m\u001b[0mGear\u001b[0m\u001b[0;34m(\u001b[0m\u001b[0;36m52\u001b[0m\u001b[0;34m,\u001b[0m \u001b[0;36m11\u001b[0m\u001b[0;34m)\u001b[0m\u001b[0;34m.\u001b[0m\u001b[0mratio\u001b[0m\u001b[0;34m(\u001b[0m\u001b[0;34m)\u001b[0m\u001b[0;34m)\u001b[0m \u001b[0;31m#4.7272727272727275\u001b[0m\u001b[0;34m\u001b[0m\u001b[0;34m\u001b[0m\u001b[0m\n\u001b[0m",
            "\u001b[0;31mTypeError\u001b[0m: __init__() missing 2 required positional arguments: 'rim' and 'tire'"
          ]
        }
      ]
    },
    {
      "cell_type": "markdown",
      "source": [
        "Based on these, is this the best way to organize the code? If you know this application will not change forever, this is good enough. However, most applications will change and you also don’t know what changes will come."
      ],
      "metadata": {
        "id": "64K5fR6Hyqeb"
      }
    },
    {
      "cell_type": "markdown",
      "source": [
        "# Writing Code That Embraces Change\n",
        "Here are a few well-known techniques that you can use to create code that embraces change."
      ],
      "metadata": {
        "id": "Q8s-EpQXyri6"
      }
    },
    {
      "cell_type": "markdown",
      "source": [
        "## Depend on Behavior, Not Data\n"
      ],
      "metadata": {
        "id": "rUkXm67iyxtV"
      }
    },
    {
      "cell_type": "markdown",
      "source": [
        "### Hide Instance Variables\n",
        "\n",
        "\n",
        "\n",
        "```\n",
        "def cog(self):\n",
        "  return self.cog\n",
        "```\n",
        "Implementing this method changes cog from data (which is referenced all over) to behavior (which is defined once). If the cog is referred to 10 times and suddenly change its specification, you don’t need to change code 10 places.\n"
      ],
      "metadata": {
        "id": "DsoTg4y-y0w2"
      }
    },
    {
      "cell_type": "code",
      "metadata": {
        "id": "91Iy6F6uCuh9",
        "outputId": "5b25a50f-b2d2-41f0-afa2-9211bc41dfe3",
        "colab": {
          "base_uri": "https://localhost:8080/",
          "height": 51
        }
      },
      "source": [
        "class Gear:\n",
        "  def __init__(self, chainring, cog, rim, tire):\n",
        "    self.chainring = chainring\n",
        "    self.cog = cog\n",
        "    self.rim = rim\n",
        "    self.tire = tire\n",
        "\n",
        "  def cog(self):\n",
        "    return self.cog\n",
        "\n",
        "  def ratio(self):\n",
        "    return self.chainring / float(cog)\n",
        "\n",
        "  def gear_inches(self):\n",
        "    return self.ratio() * (self.rim + (self.tire * 2))\n",
        "\n",
        "print(Gear(52, 11, 26, 1.5).gear_inches()) #32.22222222222222\n",
        "print(Gear(52, 11, 24, 1.25).gear_inches()) #29.444444444444446"
      ],
      "execution_count": null,
      "outputs": [
        {
          "output_type": "stream",
          "text": [
            "32.22222222222222\n",
            "29.444444444444446\n"
          ],
          "name": "stdout"
        }
      ]
    },
    {
      "cell_type": "markdown",
      "source": [
        "### Hide Data Structures\n",
        "\n"
      ],
      "metadata": {
        "id": "p1jjOmh_zBeM"
      }
    },
    {
      "cell_type": "code",
      "metadata": {
        "id": "WyBMRWCIFe_a",
        "outputId": "bcd6688d-18cf-44ec-dd18-994992703401",
        "colab": {
          "base_uri": "https://localhost:8080/"
        }
      },
      "source": [
        "class ObscuringReference:\n",
        "  def __init__(self, data):\n",
        "    self.data = data\n",
        "\n",
        "  def diameters(self):\n",
        "    return [cell[0] + (cell[1] * 2) for cell in self.data]\n",
        "\n",
        "data = [\n",
        "  [622, 20],\n",
        "  [622, 23],\n",
        "  [559, 30],\n",
        "  [559, 40]\n",
        "]\n",
        "print(ObscuringReference(data).diameters())"
      ],
      "execution_count": null,
      "outputs": [
        {
          "output_type": "stream",
          "name": "stdout",
          "text": [
            "[662, 668, 619, 639]\n"
          ]
        }
      ]
    },
    {
      "cell_type": "markdown",
      "source": [
        "This example is not bad, but to do anything useful, each sender of data must have complete knowledge of what piece of data is at which index in the array.\n",
        "\n",
        "In this case, sender has to know that rims are at [0] and tires are at [1]. If data structure changes, then this code must change. The knowledge that rims are at [0] should not be duplicated in your application because it’s not DRY (Don’t Repeat Yourself)."
      ],
      "metadata": {
        "id": "4fHluAyzzNcm"
      }
    },
    {
      "cell_type": "code",
      "metadata": {
        "id": "4KPVfrycK9o_",
        "outputId": "2b882d7a-f213-4223-c916-94ef83464b7b",
        "colab": {
          "base_uri": "https://localhost:8080/"
        }
      },
      "source": [
        "from collections import namedtuple\n",
        "\n",
        "class RevealingReference:\n",
        "  Wheel = namedtuple(\"Wheel\", (\"rim\", \"tire\"))\n",
        "  \n",
        "  def __init__(self, data):\n",
        "    self.wheels = self.wheelify(data)\n",
        "\n",
        "  def diameters(self):\n",
        "    return [wheel.rim + (wheel.tire * 2) for wheel in self.wheels]\n",
        "  \n",
        "  def wheelify(self, data):\n",
        "    return [RevealingReference.Wheel(cell[0], cell[1]) for cell in data]\n",
        "\n",
        "data = [\n",
        "  [622, 20],\n",
        "  [622, 23],\n",
        "  [559, 30],\n",
        "  [559, 40]\n",
        "]\n",
        "print(RevealingReference(data).diameters())"
      ],
      "execution_count": null,
      "outputs": [
        {
          "output_type": "stream",
          "name": "stdout",
          "text": [
            "[662, 668, 619, 639]\n"
          ]
        }
      ]
    },
    {
      "cell_type": "markdown",
      "source": [
        "Implementing as above, diameters method now has no knowledge of the internal structure of the array. And all knowledge of the structure has been isolated inside the wheelify method, so we don’t need to change code if the structure changes, for example insert into new data between [0] and [1]."
      ],
      "metadata": {
        "id": "1cdyBWxHzaFk"
      }
    },
    {
      "cell_type": "markdown",
      "source": [
        "## Enforce Single Responsibility Everywhere\n"
      ],
      "metadata": {
        "id": "eGTCjN_XzbPx"
      }
    },
    {
      "cell_type": "markdown",
      "source": [
        "### Extract Extra Responsibility from Methods\n",
        "\n",
        "This method, diameters method of RevealingReference class, has two responsibilities:\n",
        "\n",
        "* Iterates over the wheels\n",
        "* Calculates the diameter of each wheel\n",
        "```\n",
        "def diameters(self):\n",
        "  return [wheel.rim + (wheel.tire * 2) for wheel in self.wheels]\n",
        "```\n",
        "\n",
        "We can simplify the code by separating it into two methods, each has single responsibility.\n",
        "\n",
        "\n",
        "```\n",
        "#Iterates over the wheels\n",
        "def diameters(self):\n",
        "  return [diameters(wheel) for wheel in self.wheels]\n",
        "#Calculates the diameter of each wheel\n",
        "def diameter(self, wheel):\n",
        "  return wheel.rim + (wheel.tire * 2)\n",
        "```\n",
        "\n",
        "In addition, we recall gear_inches method of Gear class. This also has two responsibilities:\n",
        "* Iterates over the wheels\n",
        "* Calculates the diameter of each wheel\n",
        "\n",
        "\n",
        "```\n",
        "def gear_inches(self):\n",
        "  return ratio * (self.rim + (self.tire * 2))\n",
        "```\n",
        "\n",
        "\n",
        "\n",
        "We can simplify like this:\n",
        "\n",
        "```\n",
        "def gear_inches(self):\n",
        "  return ratio * diameter\n",
        "def diameter(self):\n",
        "  return self.rim + (self.tire * 2)\n",
        "```\n",
        "\n",
        "Why do we need to take care of single responsibility? That has following benefits:\n",
        "* Expose previously hidden qualities\n",
        "* Avoid the need for comments\n",
        "* Encourage reuse\n",
        "* Are easy to move to another class"
      ],
      "metadata": {
        "id": "msJmxDMgzdgk"
      }
    },
    {
      "cell_type": "markdown",
      "source": [
        "### Isolate Extra Responsibilities in Classes\n",
        "\n"
      ],
      "metadata": {
        "id": "iPnHDDTX0CxJ"
      }
    },
    {
      "cell_type": "markdown",
      "source": [
        "Once you simplify each method that has a single responsibility, now you see the class responsibility.\n",
        "\n",
        "We calculated diameter in gear_inches method of Gear class, but diameter is more likely behavior of Wheel. Therefore, we can create Wheel class that contains diameter method."
      ],
      "metadata": {
        "id": "rIv6W2ga0GHS"
      }
    },
    {
      "cell_type": "code",
      "source": [
        "class Wheel:\n",
        "  def __init__(self, rim, tire):\n",
        "    self.rim = rim\n",
        "    self.tire = tire\n",
        "  def diameter(self):\n",
        "    return self.rim + (self.tire * 2)\n",
        "print(Wheel(26, 1.5).diameter())"
      ],
      "metadata": {
        "colab": {
          "base_uri": "https://localhost:8080/"
        },
        "id": "s2qEN2sQ0StQ",
        "outputId": "9893344c-4e81-464f-db1c-b47cf5adccac"
      },
      "execution_count": null,
      "outputs": [
        {
          "output_type": "stream",
          "name": "stdout",
          "text": [
            "29.0\n"
          ]
        }
      ]
    },
    {
      "cell_type": "markdown",
      "source": [
        "Then, now we can calculate diameter in Gear class, through Wheel class."
      ],
      "metadata": {
        "id": "R0FjlxRA0Uyn"
      }
    },
    {
      "cell_type": "markdown",
      "source": [
        "# Final code"
      ],
      "metadata": {
        "id": "evbxkZdE0WOM"
      }
    },
    {
      "cell_type": "code",
      "source": [
        "class Gear:\n",
        "  def __init__(self, chainring, cog, wheel=None):\n",
        "    self.chainring = chainring\n",
        "    self.cog = cog\n",
        "    self.wheel = wheel\n",
        "  def ratio(self):\n",
        "    return self.chainring / float(self.cog)\n",
        "  def gear_inches(self):\n",
        "    return self.ratio() * self.wheel.diameter()\n",
        "class Wheel:\n",
        "  def __init__(self, rim, tire):\n",
        "    self.rim = rim\n",
        "    self.tire = tire\n",
        "  def diameter(self):\n",
        "    return self.rim + (self.tire * 2)\n",
        "wheel = Wheel(26, 1.5)\n",
        "print(Gear(52, 11, wheel).gear_inches())\n",
        "print(Gear(52, 11).ratio())"
      ],
      "metadata": {
        "id": "BvQcCCLR0VvM"
      },
      "execution_count": null,
      "outputs": []
    }
  ]
}
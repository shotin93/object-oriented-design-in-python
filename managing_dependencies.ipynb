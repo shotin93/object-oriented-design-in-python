{
  "nbformat": 4,
  "nbformat_minor": 0,
  "metadata": {
    "colab": {
      "provenance": []
    },
    "kernelspec": {
      "name": "python3",
      "display_name": "Python 3"
    }
  },
  "cells": [
    {
      "cell_type": "markdown",
      "source": [
        "# Understanding Dependencies\n"
      ],
      "metadata": {
        "id": "9-dgC1Q002HK"
      }
    },
    {
      "cell_type": "markdown",
      "source": [
        "When an object depends on another object, if one object changes, the other might be forced to change.\n",
        "\n",
        "Sample code follows:"
      ],
      "metadata": {
        "id": "Mp9CujjS03pu"
      }
    },
    {
      "cell_type": "code",
      "metadata": {
        "id": "ZrxLXk2piwfa",
        "colab": {
          "base_uri": "https://localhost:8080/"
        },
        "outputId": "d9be76cb-1dea-4ca3-fee8-b43f04a3d426"
      },
      "source": [
        "class Gear:\n",
        "  def __init__(self, chainring, cog, rim, tire):\n",
        "    self.chainring = chainring\n",
        "    self.cog = cog\n",
        "    self.rim = rim\n",
        "    self.tire = tire\n",
        "\n",
        "  def ratio(self):\n",
        "    return self.chainring / float(self.cog)\n",
        "    \n",
        "  def gear_inches(self):\n",
        "    return self.ratio() * Wheel(self.rim, self.tire).diameter()\n",
        "\n",
        "class Wheel:\n",
        "  def __init__(self, rim, tire):\n",
        "    self.rim = rim\n",
        "    self.tire = tire\n",
        "\n",
        "  def diameter(self):\n",
        "    return self.rim + (self.tire * 2)\n",
        "\n",
        "Gear(52, 11, 26, 1.5).gear_inches()"
      ],
      "execution_count": null,
      "outputs": [
        {
          "output_type": "execute_result",
          "data": {
            "text/plain": [
              "137.0909090909091"
            ]
          },
          "metadata": {},
          "execution_count": 1
        }
      ]
    },
    {
      "cell_type": "markdown",
      "source": [
        "Gear class has dependencies on Wheel class at least 4.\n",
        "\n",
        "* Gear expects a class named Wheel to exist.\n",
        "* Gear expects a Wheel instance to respond to diameter.\n",
        "* Gear knows that Wheel() requires rim and tire.\n",
        "* Gear knows the first argument to Wheel() must be rim, the second, tire.\n",
        "\n",
        "These dependencies cause that Gear class will be forced to change because of a change to Wheel class.\n",
        "\n",
        "The more Gear class knows about Wheel class, the more tightly coupled they are. The more tightly coupled two objects are, they become like a single object.\n",
        "\n",
        "If that happens, you have to change Gear class when Wheel class change. Wheel class comes along when you want to use just Gear class. You have to test Wheel class when you want to test just Gear class."
      ],
      "metadata": {
        "id": "KfCCdYbe1EES"
      }
    },
    {
      "cell_type": "markdown",
      "source": [
        "# Writing Loosely Coupled Code\n"
      ],
      "metadata": {
        "id": "MUAvt0vz1JyS"
      }
    },
    {
      "cell_type": "markdown",
      "source": [
        "In next sample code, Gear class expects to be initialized with an object which can respond to diameter, instead of expecting a class named Wheel to exist."
      ],
      "metadata": {
        "id": "_ug1pvsn1Mb0"
      }
    },
    {
      "cell_type": "code",
      "source": [
        "class Gear:\n",
        "  def __init__(self, chainring, cog, wheel):\n",
        "    self.chainring = chainring\n",
        "    self.cog = cog\n",
        "    self.wheel = wheel\n",
        "\n",
        "  def ratio(self):\n",
        "    return self.chainring / float(self.cog)\n",
        "\n",
        "  def gear_inches(self):\n",
        "    return self.ratio() * self.wheel.diameter()\n",
        "\n",
        "class Wheel:\n",
        "  def __init__(self, rim, tire):\n",
        "    self.rim = rim\n",
        "    self.tire = tire\n",
        "\n",
        "  def diameter(self):\n",
        "    return self.rim + (self.tire * 2)\n",
        "    \n",
        "Gear(52, 11, Wheel(26, 1.5)).gear_inches()"
      ],
      "metadata": {
        "colab": {
          "base_uri": "https://localhost:8080/"
        },
        "id": "mPtILDqL0_0M",
        "outputId": "f8901669-d76b-469e-c495-01b0cfa59858"
      },
      "execution_count": null,
      "outputs": [
        {
          "output_type": "execute_result",
          "data": {
            "text/plain": [
              "137.0909090909091"
            ]
          },
          "metadata": {},
          "execution_count": 3
        }
      ]
    },
    {
      "cell_type": "markdown",
      "source": [
        "This change is very small but this change bring huge benefits. Gear can now collaborate with any object which has diameter, and object doesn’t need to be named Wheel. Through the number of code lines decrease rather than increasing, bring benefits."
      ],
      "metadata": {
        "id": "Os7v-SIn1crq"
      }
    },
    {
      "cell_type": "markdown",
      "source": [
        "## Isolate Dependency\n",
        "However, this sample is ideal situation. You might be under severe constraint when you are working with existing application.\n",
        "\n"
      ],
      "metadata": {
        "id": "Z9wkuqyg1eVk"
      }
    },
    {
      "cell_type": "markdown",
      "source": [
        "### Isolate Instance Creation\n",
        "\n"
      ],
      "metadata": {
        "id": "cgpcoYIh1g2V"
      }
    },
    {
      "cell_type": "markdown",
      "source": [
        "You can isolate instance creation like 2 samples as below:\n",
        "\n",
        "Sample1 — Instance creation is moved to constructor."
      ],
      "metadata": {
        "id": "7VkkBPF01kX8"
      }
    },
    {
      "cell_type": "code",
      "source": [
        "class Gear:\n",
        "  def __init__(self, chainring, cog, rim, tire):\n",
        "    self.chainring = chainring\n",
        "    self.cog = cog\n",
        "    self.wheel = Wheel(rim, tire)\n",
        "    \n",
        "  def gear_inches(self):\n",
        "    return self.ratio() * self.wheel.diameter()"
      ],
      "metadata": {
        "id": "MnYOVWaL1PIq"
      },
      "execution_count": null,
      "outputs": []
    },
    {
      "cell_type": "markdown",
      "source": [
        "Sample2 — Instance creation is defined in method."
      ],
      "metadata": {
        "id": "_pI5TpjI1scQ"
      }
    },
    {
      "cell_type": "code",
      "source": [
        "class Gear:\n",
        "  def __init__(self, chainring, cog, rim, tire):\n",
        "    self.chainring = chainring\n",
        "    self.cog = cog\n",
        "    self.rim = rim\n",
        "    self.tire = tire\n",
        "\n",
        "  def gear_inches(self):\n",
        "    return self.ratio() * self.wheel().diameter()\n",
        "    \n",
        "  def wheel(self):\n",
        "    return Wheel(self.rim, self.tire)"
      ],
      "metadata": {
        "id": "dtxrBX5I1tIa"
      },
      "execution_count": null,
      "outputs": []
    },
    {
      "cell_type": "markdown",
      "source": [
        "Of course, both samples still knows too much, however, the number of dependencies in gear_inches has reduced.\n",
        "\n"
      ],
      "metadata": {
        "id": "pPCmDMzt1wrN"
      }
    },
    {
      "cell_type": "markdown",
      "source": [
        "### Isolate External Message\n",
        "\n"
      ],
      "metadata": {
        "id": "rFsDdLgA1yR9"
      }
    },
    {
      "cell_type": "markdown",
      "source": [
        "Now it’s time to turn your attention to external message, which is “sent to someone other than self”. For example, gear_inches sends ratio and wheel to self, but diameter to wheel.\n",
        "\n",
        "To remove external dependency, you can encapsulate it in a method like this:"
      ],
      "metadata": {
        "id": "Tg_Pp0wt10iH"
      }
    },
    {
      "cell_type": "code",
      "source": [
        "class Gear:\n",
        "  def __init__(self, chainring, cog, rim, tire):\n",
        "    self.chainring = chainring\n",
        "    self.cog = cog\n",
        "    self.rim = rim\n",
        "    self.tire = tire\n",
        "\n",
        "  def gear_inches(self):\n",
        "    return self.ratio() * self.diameter()\n",
        "\n",
        "  def wheel(self):\n",
        "    return Wheel(self.rim, self.tire)\n",
        "    \n",
        "  def diameter(self):\n",
        "    self.wheel().diameter()"
      ],
      "metadata": {
        "id": "bAikXvyl14CR"
      },
      "execution_count": null,
      "outputs": []
    },
    {
      "cell_type": "markdown",
      "source": [
        "In the original code, gear_inches knows that wheel has a diameter. Gear now isolates wheel().diameter() in a separate method and gear_inches can depend on a message sent to self.\n"
      ],
      "metadata": {
        "id": "E1p4CKZK15vd"
      }
    },
    {
      "cell_type": "markdown",
      "source": [
        "## Remove Argument-Order Dependencies\n"
      ],
      "metadata": {
        "id": "t8QcCYlO2IAE"
      }
    },
    {
      "cell_type": "markdown",
      "source": [
        "You cannot avoid having knowledge of arguments to send message as a sender. Many method requires not only arguments but also being passed in the collect order.\n",
        "\n",
        "In this example, Gear class requires three arguments, chainring, cog and wheel, to initialize. It provides no defaults and arguments must be passed in the collect order.\n",
        "\n"
      ],
      "metadata": {
        "id": "ysT6JEL32Kuj"
      }
    },
    {
      "cell_type": "markdown",
      "source": [
        "### Use Dictionary for Initialization Arguments\n",
        "\n"
      ],
      "metadata": {
        "id": "RY6LIYoU2T6N"
      }
    },
    {
      "cell_type": "markdown",
      "source": [
        "You can use dictionary (like hash in Ruby) to avoid depending on fixed-order arguments. The next example shows this technique.\n",
        "\n"
      ],
      "metadata": {
        "id": "9Twp9TGL2W6f"
      }
    },
    {
      "cell_type": "code",
      "source": [
        "class Gear:\n",
        "  def __init__(self, args):\n",
        "    self.chainring = args[\"chainring\"]\n",
        "    self.cog = args[\"cog\"]\n",
        "    self.wheel = args[\"wheel\"]\n",
        "\n",
        "  def ratio(self):\n",
        "    return self.chainring / float(self.cog)\n",
        "\n",
        "  def gear_inches(self):\n",
        "    return self.ratio() * self.wheel.diameter()\n",
        "\n",
        "class Wheel:\n",
        "  def __init__(self, rim, tire):\n",
        "    self.rim = rim\n",
        "    self.tire = tire\n",
        "    \n",
        "  def diameter(self):\n",
        "    return self.rim + (self.tire * 2)\n",
        "\n",
        "Gear(\n",
        "  {\n",
        "    \"chainring\": 52\n",
        "    , \"cog\": 11\n",
        "    , \"wheel\": Wheel(26, 1.5)\n",
        "  }\n",
        ").gear_inches()"
      ],
      "metadata": {
        "colab": {
          "base_uri": "https://localhost:8080/"
        },
        "id": "iAad8TDG2Mp_",
        "outputId": "c43fedd8-12f9-4d6f-9e05-6f33882ff4ea"
      },
      "execution_count": null,
      "outputs": [
        {
          "output_type": "execute_result",
          "data": {
            "text/plain": [
              "137.0909090909091"
            ]
          },
          "metadata": {},
          "execution_count": 4
        }
      ]
    },
    {
      "cell_type": "markdown",
      "source": [
        "This technique has several advantages:\n",
        "\n",
        "* Removes every dependency on argument order\n",
        "* Gear is now free to add or remove initialization arguments\n",
        "* No change will have side effects in other code"
      ],
      "metadata": {
        "id": "Qx3b9x-S20_I"
      }
    },
    {
      "cell_type": "markdown",
      "source": [
        "### Explicitly Define Defaults\n",
        "\n"
      ],
      "metadata": {
        "id": "M5mTAscP24GM"
      }
    },
    {
      "cell_type": "markdown",
      "source": [
        "You can set default of dictionary using “get” in Python as below:\n",
        "\n"
      ],
      "metadata": {
        "id": "1ueUOHYw26MT"
      }
    },
    {
      "cell_type": "code",
      "source": [
        "class Gear:\n",
        "  def __init__(self, args):\n",
        "    self.chainring = args.get(\"chainring\", 52)\n",
        "    self.cog = args.get(\"cog\", 11)\n",
        "    self.wheel = args[\"wheel\"]\n",
        "\n",
        "  def ratio(self):\n",
        "    return self.chainring / float(self.cog)\n",
        "\n",
        "  def gear_inches(self):\n",
        "    return self.ratio() * self.wheel.diameter()\n",
        "\n",
        "class Wheel:\n",
        "  def __init__(self, rim, tire):\n",
        "    self.rim = rim\n",
        "    self.tire = tire\n",
        "    \n",
        "  def diameter(self):\n",
        "    return self.rim + (self.tire * 2)\n",
        "\n",
        "Gear(\n",
        "  {\n",
        "    \"wheel\": Wheel(26, 1.5)\n",
        "  }\n",
        ").gear_inches()"
      ],
      "metadata": {
        "colab": {
          "base_uri": "https://localhost:8080/"
        },
        "id": "6ooyXXcd2ugK",
        "outputId": "e5a0baa0-ae65-4d18-f7f9-e833e0e7364f"
      },
      "execution_count": null,
      "outputs": [
        {
          "output_type": "execute_result",
          "data": {
            "text/plain": [
              "137.0909090909091"
            ]
          },
          "metadata": {},
          "execution_count": 5
        }
      ]
    },
    {
      "cell_type": "markdown",
      "source": [
        "Of course we have any other way to set default, sender doesn’t need to know arguments is required using default anyway.\n",
        "\n"
      ],
      "metadata": {
        "id": "N9kjLUnh3FAZ"
      }
    },
    {
      "cell_type": "code",
      "source": [],
      "metadata": {
        "id": "5WkqpoPu3Eet"
      },
      "execution_count": null,
      "outputs": []
    }
  ]
}